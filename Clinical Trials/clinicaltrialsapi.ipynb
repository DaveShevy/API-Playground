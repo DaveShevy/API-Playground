{
 "cells": [
  {
   "cell_type": "markdown",
   "metadata": {},
   "source": [
    "Data Normalization\n",
    "- Filter out where protocolSection.conditionsModule.conditions does not contain Rosacea\n",
    "- Remove bad values in a binary column such as hasResults\n",
    "- "
   ]
  },
  {
   "cell_type": "code",
   "execution_count": 1,
   "metadata": {},
   "outputs": [],
   "source": [
    "# Extract Clinical Trial Studies Data\n",
    "\n",
    "import requests\n",
    "import pandas as pd\n",
    "\n",
    "# Define the base URL for the ClinicalTrials.gov API v2\n",
    "api_url = \"https://clinicaltrials.gov/api/v2/studies\"\n",
    "\n",
    "# Specify the search query parameters\n",
    "params = {\n",
    "    'query.term': 'Rosacea',  # Search for Rosacea-related studies\n",
    "    'pageSize': 1000,         # Number of studies to retrieve\n",
    "    'format': 'json'          # Request format as JSON\n",
    "}\n",
    "\n",
    "# Make the API request\n",
    "response = requests.get(api_url, params=params)\n",
    "\n",
    "if response.status_code == 200:\n",
    "    data = response.json()['studies']\n",
    "    df = pd.json_normalize(data)\n",
    "\n",
    "\n",
    "else:\n",
    "    print(f\"Request failed with status code: {response.status_code}\")\n"
   ]
  },
  {
   "cell_type": "code",
   "execution_count": null,
   "metadata": {},
   "outputs": [],
   "source": [
    "# Extract Clinical Trial Individual Studies\n",
    "\n",
    "import requests\n",
    "import pandas as pd\n",
    "\n",
    "# List of Clinical Trial Study IDs\n",
    "study_ids = [\"NCT01931644\",\"NCT00940992\",\"NCT03079531\",\"NCT00882531\",\"NCT00249782\",\"NCT02268474\",\"NCT03263273\",\"NCT01636765\",\"NCT02249065\",\"NCT01756027\",\"NCT01016782\",\"NCT04898582\",\"NCT03590366\",\"NCT03253666\",\"NCT00395226\",\"NCT05592548\",\"NCT05108025\",\"NCT06072066\",\"NCT04106726\",\"NCT01174030\",\"NCT04555525\",\"NCT05942248\",\"NCT02800148\",\"NCT01125930\",\"NCT03448939\",\"NCT02576860\",\"NCT03228927\",\"NCT00945373\",\"NCT02556827\",\"NCT00667173\",\"NCT03075891\",\"NCT01134991\",\"NCT04508660\",\"NCT00436527\",\"NCT02147691\",\"NCT05296629\",\"NCT03287791\",\"NCT01398280\",\"NCT02300129\",\"NCT05597462\",\"NCT01449591\",\"NCT05747391\",\"NCT02385240\",\"NCT03708263\",\"NCT06271135\",\"NCT02028286\",\"NCT01025635\",\"NCT00348335\",\"NCT05278624\",\"NCT03667222\",\"NCT03048058\",\"NCT01529996\",\"NCT02749786\",\"NCT03050086\",\"NCT01555463\",\"NCT01513863\",\"NCT04886739\",\"NCT04336163\",\"NCT02787616\",\"NCT02601963\",\"NCT02036229\",\"NCT00710489\",\"NCT03756389\",\"NCT05343455\",\"NCT03193372\",\"NCT03878784\",\"NCT05675501\",\"NCT01735201\",\"NCT01494467\",\"NCT03954444\",\"NCT03989492\",\"NCT04025801\",\"NCT00279890\",\"NCT03003104\",\"NCT00823901\",\"NCT01355458\",\"NCT02095158\",\"NCT01740934\",\"NCT02120924\",\"NCT01451619\",\"NCT01308619\",\"NCT01257919\",\"NCT06434519\",\"NCT03564119\",\"NCT04377841\",\"NCT02828241\",\"NCT02795117\",\"NCT02547441\",\"NCT00697541\",\"NCT03392558\",\"NCT04839549\",\"NCT03276936\",\"NCT00495313\",\"NCT05014906\",\"NCT04275999\",\"NCT00621218\",\"NCT06466018\",\"NCT06312813\",\"NCT02131636\",\"NCT02292836\",\"NCT06532136\",\"NCT03478436\",\"NCT00126399\",\"NCT05401422\",\"NCT02132117\",\"NCT02806414\",\"NCT00668655\",\"NCT03418610\",\"NCT00989014\",\"NCT00855595\",\"NCT03872050\",\"NCT03508869\",\"NCT03689010\",\"NCT05861310\",\"NCT03424304\",\"NCT02602470\",\"NCT03472859\",\"NCT01186068\",\"NCT05045469\",\"NCT01993446\",\"NCT00892281\",\"NCT01426269\",\"NCT04472546\",\"NCT02144181\",\"NCT02616250\",\"NCT00580723\",\"NCT05616923\",\"NCT03352323\",\"NCT03035955\",\"NCT03064438\",\"NCT06033352\",\"NCT02759900\",\"NCT01789775\",\"NCT05838170\",\"NCT02052999\",\"NCT04608500\",\"NCT01885000\",\"NCT03053700\",\"NCT03841032\",\"NCT02637232\",\"NCT01631656\",\"NCT00681603\",\"NCT03094403\",\"NCT01618864\",\"NCT03380390\",\"NCT00617903\",\"NCT01614743\",\"NCT04889703\",\"NCT01933464\",\"NCT02774590\",\"NCT06282679\",\"NCT01579084\",\"NCT06557603\",\"NCT06582043\",\"NCT01872715\",\"NCT00417937\",\"NCT02289352\",\"NCT02393937\",\"NCT02583009\",\"NCT05296837\",\"NCT03211585\",\"NCT04731259\",\"NCT04419259\",\"NCT01666509\",\"NCT03864978\",\"NCT06307288\",\"NCT04153188\",\"NCT05094700\",\"NCT01355471\",\"NCT06013371\",\"NCT04108897\",\"NCT05150587\",\"NCT02066051\",\"NCT01659853\",\"NCT01045551\",\"NCT03142451\",\"NCT06331533\",\"NCT02204254\",\"NCT01784133\",\"NCT03479853\",\"NCT05360251\",\"NCT01359228\",\"NCT03340961\",\"NCT02075671\",\"NCT02270411\",\"NCT05815511\",\"NCT02840461\",\"NCT04214483\",\"NCT05562661\",\"NCT03194698\",\"NCT02292797\",\"NCT01493947\",\"NCT02576847\",\"NCT03564145\",\"NCT04508205\",\"NCT05771298\",\"NCT00483145\",\"NCT03883945\",\"NCT00991198\",\"NCT01828177\",\"NCT00041977\",\"NCT01318733\",\"NCT03655197\",\"NCT01493687\"\n",
    "]\n",
    "\n",
    "# Initialize an empty DataFrame to store the aggregated data\n",
    "all_trials_df = pd.DataFrame()\n",
    "\n",
    "# Loop through each study ID and make the API call\n",
    "for study_id in study_ids:\n",
    "    api_url = f\"https://clinicaltrials.gov/api/v2/studies/{study_id}\"\n",
    "\n",
    "    # Specify the request format as JSON\n",
    "    params = {\n",
    "        'format': 'json'  # Request format as JSON\n",
    "    }\n",
    "\n",
    "    # Make the API request for the specific study\n",
    "    response = requests.get(api_url, params=params)\n",
    "\n",
    "    # Check if the request was successful\n",
    "    if response.status_code == 200:\n",
    "        # Parse the JSON response and normalize it into a DataFrame\n",
    "        data = response.json()\n",
    "        df = pd.json_normalize(data)\n",
    "\n",
    "        # Append the individual study data to the aggregated DataFrame\n",
    "        all_trials_df = pd.concat([all_trials_df, df], ignore_index=True)\n",
    "    else:\n",
    "        print(f\"Request for {study_id} failed with status code: {response.status_code}\")\n",
    "\n",
    "# Now all_trials_df contains the aggregated data from all the studies\n",
    "print(all_trials_df)\n"
   ]
  },
  {
   "cell_type": "code",
   "execution_count": 11,
   "metadata": {},
   "outputs": [],
   "source": [
    "# Extract Clinical Trial Stats\n",
    "import requests\n",
    "import pandas as pd\n",
    "\n",
    "# Define the base URL for the ClinicalTrials.gov API v2\n",
    "api_url = \"https://clinicaltrials.gov/api/v2/stats/size\"\n",
    "\n",
    "# Make the API request\n",
    "response = requests.get(api_url)\n",
    "\n",
    "# Check if the request was successful\n",
    "if response.status_code == 200:\n",
    "    data = response.json()\n",
    "    df = pd.DataFrame([data])\n",
    "else:\n",
    "    print(f\"Request failed with status code: {response.status_code}\")\n"
   ]
  },
  {
   "cell_type": "code",
   "execution_count": null,
   "metadata": {},
   "outputs": [],
   "source": [
    "# Extract Clinical Trial Version\n",
    "\n",
    "import requests\n",
    "import pandas as pd\n",
    "\n",
    "# Define the base URL for the ClinicalTrials.gov API v2\n",
    "api_url = \"https://clinicaltrials.gov/api/v2/version\"\n",
    "\n",
    "# Make the API request\n",
    "response = requests.get(api_url)\n",
    "\n",
    "# Check if the request was successful\n",
    "if response.status_code == 200:\n",
    "    # Extract the version info from the response\n",
    "    data = response.json()\n",
    "\n",
    "    # Convert the JSON data into a pandas DataFrame\n",
    "    df = pd.DataFrame([data])  # Make a DataFrame for a single row of data\n",
    "\n",
    "\n",
    "else:\n",
    "    print(f\"Request failed with status code: {response.status_code}\")"
   ]
  }
 ],
 "metadata": {
  "kernelspec": {
   "display_name": "DaveShevy-Python",
   "language": "python",
   "name": "python3"
  },
  "language_info": {
   "codemirror_mode": {
    "name": "ipython",
    "version": 3
   },
   "file_extension": ".py",
   "mimetype": "text/x-python",
   "name": "python",
   "nbconvert_exporter": "python",
   "pygments_lexer": "ipython3",
   "version": "3.12.3"
  }
 },
 "nbformat": 4,
 "nbformat_minor": 2
}
